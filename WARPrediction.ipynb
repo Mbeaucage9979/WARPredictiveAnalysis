{
  "nbformat": 4,
  "nbformat_minor": 0,
  "metadata": {
    "colab": {
      "provenance": []
    },
    "kernelspec": {
      "name": "python3",
      "display_name": "Python 3"
    },
    "language_info": {
      "name": "python"
    }
  },
  "cells": [
    {
      "cell_type": "code",
      "source": [
        "!pip install pybaseball\n",
        "import pybaseball"
      ],
      "metadata": {
        "colab": {
          "base_uri": "https://localhost:8080/"
        },
        "id": "GWCxOvjH0L8d",
        "outputId": "9f2c78e9-d081-4fdc-bc84-d21fc6c9b428"
      },
      "execution_count": null,
      "outputs": [
        {
          "output_type": "stream",
          "name": "stdout",
          "text": [
            "Requirement already satisfied: pybaseball in /usr/local/lib/python3.10/dist-packages (2.2.7)\n",
            "Requirement already satisfied: numpy>=1.13.0 in /usr/local/lib/python3.10/dist-packages (from pybaseball) (1.26.4)\n",
            "Requirement already satisfied: pandas>=1.0.3 in /usr/local/lib/python3.10/dist-packages (from pybaseball) (2.2.2)\n",
            "Requirement already satisfied: beautifulsoup4>=4.4.0 in /usr/local/lib/python3.10/dist-packages (from pybaseball) (4.12.3)\n",
            "Requirement already satisfied: requests>=2.18.1 in /usr/local/lib/python3.10/dist-packages (from pybaseball) (2.32.3)\n",
            "Requirement already satisfied: lxml>=4.2.1 in /usr/local/lib/python3.10/dist-packages (from pybaseball) (5.3.0)\n",
            "Requirement already satisfied: pyarrow>=1.0.1 in /usr/local/lib/python3.10/dist-packages (from pybaseball) (17.0.0)\n",
            "Requirement already satisfied: pygithub>=1.51 in /usr/local/lib/python3.10/dist-packages (from pybaseball) (2.5.0)\n",
            "Requirement already satisfied: scipy>=1.4.0 in /usr/local/lib/python3.10/dist-packages (from pybaseball) (1.13.1)\n",
            "Requirement already satisfied: matplotlib>=2.0.0 in /usr/local/lib/python3.10/dist-packages (from pybaseball) (3.8.0)\n",
            "Requirement already satisfied: tqdm>=4.50.0 in /usr/local/lib/python3.10/dist-packages (from pybaseball) (4.66.6)\n",
            "Requirement already satisfied: attrs>=20.3.0 in /usr/local/lib/python3.10/dist-packages (from pybaseball) (24.2.0)\n",
            "Requirement already satisfied: soupsieve>1.2 in /usr/local/lib/python3.10/dist-packages (from beautifulsoup4>=4.4.0->pybaseball) (2.6)\n",
            "Requirement already satisfied: contourpy>=1.0.1 in /usr/local/lib/python3.10/dist-packages (from matplotlib>=2.0.0->pybaseball) (1.3.1)\n",
            "Requirement already satisfied: cycler>=0.10 in /usr/local/lib/python3.10/dist-packages (from matplotlib>=2.0.0->pybaseball) (0.12.1)\n",
            "Requirement already satisfied: fonttools>=4.22.0 in /usr/local/lib/python3.10/dist-packages (from matplotlib>=2.0.0->pybaseball) (4.54.1)\n",
            "Requirement already satisfied: kiwisolver>=1.0.1 in /usr/local/lib/python3.10/dist-packages (from matplotlib>=2.0.0->pybaseball) (1.4.7)\n",
            "Requirement already satisfied: packaging>=20.0 in /usr/local/lib/python3.10/dist-packages (from matplotlib>=2.0.0->pybaseball) (24.2)\n",
            "Requirement already satisfied: pillow>=6.2.0 in /usr/local/lib/python3.10/dist-packages (from matplotlib>=2.0.0->pybaseball) (11.0.0)\n",
            "Requirement already satisfied: pyparsing>=2.3.1 in /usr/local/lib/python3.10/dist-packages (from matplotlib>=2.0.0->pybaseball) (3.2.0)\n",
            "Requirement already satisfied: python-dateutil>=2.7 in /usr/local/lib/python3.10/dist-packages (from matplotlib>=2.0.0->pybaseball) (2.8.2)\n",
            "Requirement already satisfied: pytz>=2020.1 in /usr/local/lib/python3.10/dist-packages (from pandas>=1.0.3->pybaseball) (2024.2)\n",
            "Requirement already satisfied: tzdata>=2022.7 in /usr/local/lib/python3.10/dist-packages (from pandas>=1.0.3->pybaseball) (2024.2)\n",
            "Requirement already satisfied: pynacl>=1.4.0 in /usr/local/lib/python3.10/dist-packages (from pygithub>=1.51->pybaseball) (1.5.0)\n",
            "Requirement already satisfied: pyjwt>=2.4.0 in /usr/local/lib/python3.10/dist-packages (from pyjwt[crypto]>=2.4.0->pygithub>=1.51->pybaseball) (2.9.0)\n",
            "Requirement already satisfied: typing-extensions>=4.0.0 in /usr/local/lib/python3.10/dist-packages (from pygithub>=1.51->pybaseball) (4.12.2)\n",
            "Requirement already satisfied: urllib3>=1.26.0 in /usr/local/lib/python3.10/dist-packages (from pygithub>=1.51->pybaseball) (2.2.3)\n",
            "Requirement already satisfied: Deprecated in /usr/local/lib/python3.10/dist-packages (from pygithub>=1.51->pybaseball) (1.2.14)\n",
            "Requirement already satisfied: charset-normalizer<4,>=2 in /usr/local/lib/python3.10/dist-packages (from requests>=2.18.1->pybaseball) (3.4.0)\n",
            "Requirement already satisfied: idna<4,>=2.5 in /usr/local/lib/python3.10/dist-packages (from requests>=2.18.1->pybaseball) (3.10)\n",
            "Requirement already satisfied: certifi>=2017.4.17 in /usr/local/lib/python3.10/dist-packages (from requests>=2.18.1->pybaseball) (2024.8.30)\n",
            "Requirement already satisfied: cryptography>=3.4.0 in /usr/local/lib/python3.10/dist-packages (from pyjwt[crypto]>=2.4.0->pygithub>=1.51->pybaseball) (43.0.3)\n",
            "Requirement already satisfied: cffi>=1.4.1 in /usr/local/lib/python3.10/dist-packages (from pynacl>=1.4.0->pygithub>=1.51->pybaseball) (1.17.1)\n",
            "Requirement already satisfied: six>=1.5 in /usr/local/lib/python3.10/dist-packages (from python-dateutil>=2.7->matplotlib>=2.0.0->pybaseball) (1.16.0)\n",
            "Requirement already satisfied: wrapt<2,>=1.10 in /usr/local/lib/python3.10/dist-packages (from Deprecated->pygithub>=1.51->pybaseball) (1.16.0)\n",
            "Requirement already satisfied: pycparser in /usr/local/lib/python3.10/dist-packages (from cffi>=1.4.1->pynacl>=1.4.0->pygithub>=1.51->pybaseball) (2.22)\n"
          ]
        }
      ]
    },
    {
      "cell_type": "code",
      "source": [
        "import pandas as pd\n",
        "from pybaseball import batting_stats, pitching_stats\n",
        "from sklearn.model_selection import train_test_split\n",
        "from sklearn.ensemble import RandomForestRegressor\n",
        "from sklearn.metrics import mean_squared_error, r2_score\n",
        "\n",
        "def fetch_war_data(year):\n",
        "  data = batting_stats(year, qual=100)\n",
        "  return data [['Name', 'Age', 'Season', 'WAR', 'OBP', 'SLG', 'HR', 'RBI']]\n",
        "\n",
        "def prepare_dataset(start_year, end_year):\n",
        "  frames = []\n",
        "  for year in range(start_year, end_year + 1):\n",
        "    data = fetch_war_data(year)\n",
        "    frames.append(data)\n",
        "  return pd.concat(frames, ignore_index=True)\n",
        "\n",
        "def create_features(data):\n",
        "  data = data.sort_values(by=['Name', 'Season'])\n",
        "  data['WAR_last_year'] = data.groupby('Name')['WAR'].shift(1)\n",
        "  data['WAR_2_years_ago'] = data.groupby('Name')['WAR'].shift(2)\n",
        "  data['WAR_3_years_ago'] = data.groupby('Name')['WAR'].shift(3)\n",
        "  data = data.fillna(0)\n",
        "  return data\n",
        "\n",
        "def train_model(data):\n",
        "    features = ['Age', 'WAR_last_year', 'WAR_2_years_ago', 'WAR_3_years_ago', 'OBP', 'SLG', 'HR', 'RBI']\n",
        "    target = 'WAR'\n",
        "    X = data[features]\n",
        "    y = data[target]\n",
        "\n",
        "    X_train, X_test, y_train, y_test = train_test_split(X,y, test_size=0.2, random_state=42)\n",
        "\n",
        "    model = RandomForestRegressor(random_state=42)\n",
        "    model.fit(X_train, y_train)\n",
        "\n",
        "    y_pred = model.predict(X_test)\n",
        "    print(\"Model Evaluation:\")\n",
        "    print(\"RMSE:\", mean_squared_error(y_test, y_pred, squared=False))\n",
        "    print(\"R^2 Score:\", r2_score(y_test, y_pred))\n",
        "\n",
        "    return model\n",
        "\n",
        "def predict_next_year(model, current_year_data):\n",
        "  return model.predict(current_year_data)\n",
        "\n",
        "if __name__ == \"__main__\":\n",
        "  start_year = 2015\n",
        "  end_year = 2023\n",
        "  data = prepare_dataset(start_year, end_year)\n",
        "\n",
        "  data = create_features(data)\n",
        "  model = train_model(data)\n",
        "\n",
        "  current_year = 2024\n",
        "  current_data = fetch_war_data(current_year)\n",
        "  current_data = create_features(current_data)\n",
        "\n",
        "  predictions = predict_next_year(model, current_data[['Age', 'WAR_last_year', 'WAR_2_years_ago', 'WAR_3_years_ago', 'OBP', 'SLG', 'HR', 'RBI']])\n",
        "  current_data['Predicted_WAR'] = predictions\n",
        "\n",
        "  print(current_data[['Name', 'Predicted_WAR']].sort_values(by='Predicted_WAR', ascending = False).head(10))"
      ],
      "metadata": {
        "colab": {
          "base_uri": "https://localhost:8080/"
        },
        "id": "UTWge96k0PHY",
        "outputId": "a0f28e77-8d84-4df7-a282-619c28f22f15"
      },
      "execution_count": null,
      "outputs": [
        {
          "output_type": "stream",
          "name": "stdout",
          "text": [
            "Model Evaluation:\n",
            "RMSE: 0.9097256826109951\n",
            "R^2 Score: 0.6966919862020291\n"
          ]
        },
        {
          "output_type": "stream",
          "name": "stderr",
          "text": [
            "/usr/local/lib/python3.10/dist-packages/sklearn/metrics/_regression.py:492: FutureWarning: 'squared' is deprecated in version 1.4 and will be removed in 1.6. To calculate the root mean squared error, use the function'root_mean_squared_error'.\n",
            "  warnings.warn(\n"
          ]
        },
        {
          "output_type": "stream",
          "name": "stdout",
          "text": [
            "                     Name  Predicted_WAR\n",
            "0             Aaron Judge          8.697\n",
            "2               Juan Soto          7.978\n",
            "1           Shohei Ohtani          7.008\n",
            "7   Vladimir Guerrero Jr.          6.126\n",
            "5          Bobby Witt Jr.          5.908\n",
            "16       Gunnar Henderson          5.273\n",
            "9            Brent Rooker          4.991\n",
            "12            Ketel Marte          4.788\n",
            "6          Yordan Alvarez          4.773\n",
            "37      William Contreras          4.654\n"
          ]
        }
      ]
    },
    {
      "cell_type": "code",
      "source": [],
      "metadata": {
        "id": "dqTJcmhO0lcF"
      },
      "execution_count": null,
      "outputs": []
    }
  ]
}