{
  "nbformat": 4,
  "nbformat_minor": 0,
  "metadata": {
    "colab": {
      "provenance": []
    },
    "kernelspec": {
      "name": "python3",
      "display_name": "Python 3"
    },
    "language_info": {
      "name": "python"
    }
  },
  "cells": [
    {
      "cell_type": "code",
      "source": [
        "!pip install pybaseball\n",
        "import pybaseball"
      ],
      "metadata": {
        "colab": {
          "base_uri": "https://localhost:8080/"
        },
        "id": "GWCxOvjH0L8d",
        "outputId": "9f2c78e9-d081-4fdc-bc84-d21fc6c9b428"
      },
      "execution_count": null,
      "outputs": [
        {
          "output_type": "stream",
          "name": "stdout",
          "text": [
           
          ]
        }
      ]
    },
    {
      "cell_type": "code",
      "source": [
        "import pandas as pd\n",
        "from pybaseball import batting_stats, pitching_stats\n",
        "from sklearn.model_selection import train_test_split\n",
        "from sklearn.ensemble import RandomForestRegressor\n",
        "from sklearn.metrics import mean_squared_error, r2_score\n",
        "\n",
        "def fetch_war_data(year):\n",
        "  data = batting_stats(year, qual=100)\n",
        "  return data [['Name', 'Age', 'Season', 'WAR', 'OBP', 'SLG', 'HR', 'RBI']]\n",
        "\n",
        "def prepare_dataset(start_year, end_year):\n",
        "  frames = []\n",
        "  for year in range(start_year, end_year + 1):\n",
        "    data = fetch_war_data(year)\n",
        "    frames.append(data)\n",
        "  return pd.concat(frames, ignore_index=True)\n",
        "\n",
        "def create_features(data):\n",
        "  data = data.sort_values(by=['Name', 'Season'])\n",
        "  data['WAR_last_year'] = data.groupby('Name')['WAR'].shift(1)\n",
        "  data['WAR_2_years_ago'] = data.groupby('Name')['WAR'].shift(2)\n",
        "  data['WAR_3_years_ago'] = data.groupby('Name')['WAR'].shift(3)\n",
        "  data = data.fillna(0)\n",
        "  return data\n",
        "\n",
        "def train_model(data):\n",
        "    features = ['Age', 'WAR_last_year', 'WAR_2_years_ago', 'WAR_3_years_ago', 'OBP', 'SLG', 'HR', 'RBI']\n",
        "    target = 'WAR'\n",
        "    X = data[features]\n",
        "    y = data[target]\n",
        "\n",
        "    X_train, X_test, y_train, y_test = train_test_split(X,y, test_size=0.2, random_state=42)\n",
        "\n",
        "    model = RandomForestRegressor(random_state=42)\n",
        "    model.fit(X_train, y_train)\n",
        "\n",
        "    y_pred = model.predict(X_test)\n",
        "    print(\"Model Evaluation:\")\n",
        "    print(\"RMSE:\", mean_squared_error(y_test, y_pred, squared=False))\n",
        "    print(\"R^2 Score:\", r2_score(y_test, y_pred))\n",
        "\n",
        "    return model\n",
        "\n",
        "def predict_next_year(model, current_year_data):\n",
        "  return model.predict(current_year_data)\n",
        "\n",
        "if __name__ == \"__main__\":\n",
        "  start_year = 2015\n",
        "  end_year = 2023\n",
        "  data = prepare_dataset(start_year, end_year)\n",
        "\n",
        "  data = create_features(data)\n",
        "  model = train_model(data)\n",
        "\n",
        "  current_year = 2024\n",
        "  current_data = fetch_war_data(current_year)\n",
        "  current_data = create_features(current_data)\n",
        "\n",
        "  predictions = predict_next_year(model, current_data[['Age', 'WAR_last_year', 'WAR_2_years_ago', 'WAR_3_years_ago', 'OBP', 'SLG', 'HR', 'RBI']])\n",
        "  current_data['Predicted_WAR'] = predictions\n",
        "\n",
        "  print(current_data[['Name', 'Predicted_WAR']].sort_values(by='Predicted_WAR', ascending = False).head(10))"
      ],
      
